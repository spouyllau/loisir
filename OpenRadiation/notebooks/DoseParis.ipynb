{
 "cells": [
  {
   "cell_type": "markdown",
   "metadata": {},
   "source": [
    "# Mesure de la radioactivité avec le capteur OpenRadiation\n",
    "Utilisation du capteur OpenRadiation et de l'API OpenRadiation pour la mesure de la dose efficace par jour et en µSv/heure. J'utilise mon userId et le tag \"Paris\" pour la démonstration. La clé de l'API est celle des tests (https://github.com/openradiation/openradiation-api) :"
   ]
  },
  {
   "cell_type": "code",
   "execution_count": 58,
   "metadata": {},
   "outputs": [
    {
     "data": {
      "image/png": "[encoded data removed]",
      "text/plain": [
       "<Figure size 432x288 with 1 Axes>"
      ]
     },
     "metadata": {},
     "output_type": "display_data"
    }
   ],
   "source": [
    "import requests\n",
    "import json\n",
    "from datetime import datetime\n",
    "import matplotlib.pyplot as plt\n",
    "\n",
    "# Interrogation de l'API d'OpenRadiation sur mon compteur\n",
    "url = \"https://request.openradiation.net/measurements\"\n",
    "params = dict(\n",
    "    apiKey='28c3aece38504d8f6d67291bcb8ebe9a',\n",
    "    userId='rbmk17',\n",
    "    tag=\"Paris\",\n",
    "    maxNumber=\"15\"\n",
    ")\n",
    "# On récupère les données json de l'API\n",
    "resp = requests.get(url=url, params=params)\n",
    "data = resp.json()\n",
    "# On créé le graphique\n",
    "plt.style.use('ggplot')\n",
    "plt.title('Dose efficace à Paris 17e en µSv/h.', color=\"black\")\n",
    "\n",
    "for i in data[\"data\"]:\n",
    "        date = datetime.strptime(i[\"startTime\"], \"%Y-%m-%dT%H:%M:%S.%fZ\").strftime('%Y-%m-%d')\n",
    "        x = date\n",
    "        y = i[\"value\"]\n",
    "        plt.bar(x,y, color=\"green\", width=0.5)\n",
    "\n",
    "plt.ylabel('µSv/h')\n",
    "plt.xlabel('Date')\n",
    "plt.xticks(rotation = 90)\n",
    "plt._show()\n",
    "plt.close()"
   ]
  },
  {
   "cell_type": "markdown",
   "metadata": {},
   "source": [
    "Echelle de valeurs : \n",
    "\n",
    "- Un voyage Paris-New York (aller et retour) en avion à 11000 m. : 32 µSv/h (en moyenne)\n",
    "- Une radio des poumons : 100 µSv/h\n",
    "- Une radio des dents (pano) : 150 µSv/h\n",
    "- Dose maximale extérieure lors de l'accident de Three Mile Island (1979) : 1000 µSv/h\n",
    "- Dose extérieure en 1 heure en 2010 à Pripiat (Ukraine, 3km de la centrale de Tchernobyl) : 6000 µSv/h\n",
    "- Dose extérieure en 10 minutes entre le 26 avril et le 9 mai 1986 face au réacteur n°4 de la centrale de Tchernobyl après l'explosition : 50 000 000 µSv/h"
   ]
  },
  {
   "cell_type": "markdown",
   "metadata": {},
   "source": [
    "Liens utiles :\n",
    "\n",
    "- Les données brutes de mon capteur : https://request.openradiation.net/measurements?apiKey=bde8ebc61cb089b8cc997dd7a0d0a434&userId=rbmk17\n",
    "- Le site Open Radiation : https://www.openradiation.org\n",
    "- Pourquoi faire des mesures : https://www.openradiation.org/fr/faire-une-mesure\n",
    "- Les données : https://www.openradiation.org/fr/les-donnees et l'API : https://www.openradiation.org/fr/developpeurs\n",
    "- Les mesures : https://www.openradiation.org/fr/comment-fait-une-mesure\n",
    "- Le Sievert : https://fr.wikipedia.org/wiki/Sievert"
   ]
  },
  {
   "cell_type": "code",
   "execution_count": 54,
   "metadata": {},
   "outputs": [
    {
     "name": "stdout",
     "output_type": "stream",
     "text": [
      "0.0735921677957961\n",
      "0.0657224518630243\n",
      "0.0398674021419262\n",
      "0.0736762847234386\n",
      "0.0561831769835441\n",
      "0.0745558268903187\n",
      "0.0582926922406495\n",
      "0.0525346253500026\n",
      "0.0599970153730941\n",
      "0.0465956009967882\n",
      "0.0622416712954102\n",
      "0.0447940726557577\n",
      "0.0457940326181821\n",
      "0.0538586795469743\n",
      "0.0410250513584274\n",
      "0.0493457523723074\n",
      "0.0904970542024402\n",
      "0.0767380691838613\n",
      "0.0622423583284349\n",
      "0.0504573259696968\n",
      "0.0621262881925553\n",
      "0.0789513446050904\n",
      "0.0684749565464466\n",
      "0.0374789294366709\n",
      "0.053214403798232\n",
      "0.0550074500079822\n",
      "0.063830749239286\n",
      "0.0526003793824105\n",
      "0.0543978422053506\n"
     ]
    }
   ],
   "source": [
    "data = resp.json()\n",
    "data\n",
    "for i in data['data']:\n",
    "            print(i['value'])"
   ]
  },
  {
   "cell_type": "code",
   "execution_count": null,
   "metadata": {},
   "outputs": [],
   "source": []
  }
 ],
 "metadata": {
  "kernelspec": {
   "display_name": "Python 3",
   "language": "python",
   "name": "python3"
  },
  "language_info": {
   "codemirror_mode": {
    "name": "ipython",
    "version": 3
   },
   "file_extension": ".py",
   "mimetype": "text/x-python",
   "name": "python",
   "nbconvert_exporter": "python",
   "pygments_lexer": "ipython3",
   "version": "3.7.4"
  }
 },
 "nbformat": 4,
 "nbformat_minor": 4
}
