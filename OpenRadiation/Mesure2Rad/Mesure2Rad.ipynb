{
 "cells": [
  {
   "cell_type": "code",
   "execution_count": 7,
   "metadata": {},
   "outputs": [
    {
     "name": "stdout",
     "output_type": "stream",
     "text": [
      "Le 21 juillet 2019, la dose efficace de radioactivité mesurée à Paris est de 0.042 µSv/h. Ci-dessous, l’historique sur les derniers jours.\n"
     ]
    },
    {
     "data": {
      "image/png": "[encoded data removed]",
      "text/plain": [
       "<Figure size 648x576 with 1 Axes>"
      ]
     },
     "metadata": {},
     "output_type": "display_data"
    }
   ],
   "source": [
    "import matplotlib.pyplot as plt\n",
    "import requests\n",
    "import json\n",
    "import locale\n",
    "import tweepy\n",
    "import yaml\n",
    "from datetime import datetime\n",
    "\n",
    "# What's the day today ?\n",
    "todayYMD = datetime.today().strftime(\"%Y-%m-%d\")\n",
    "#todayYMD = \"2019-07-15\"\n",
    "locale.setlocale(locale.LC_ALL,'')\n",
    "todayFR = datetime.today().strftime(\"%d %B %Y\")\n",
    "\n",
    "# Resquest OpenRadiation API\n",
    "def initApiOpenRadiation():\n",
    "    with open(\"Tweet2Rad-.yml\", \"r\") as conf:\n",
    "        t2r = yaml.safe_load(conf)\n",
    "    url=t2r[\"OR_API\"]\n",
    "    params = dict(\n",
    "        apiKey=t2r[\"OR_APIKEY\"],\n",
    "        response=t2r[\"OR_API_TYPERESPONSE\"],\n",
    "        userId=t2r[\"OR_API_USERID\"],\n",
    "        tag=t2r[\"OR_API_TAG\"],\n",
    "        maxNumber=t2r[\"OR_API_MAXNUMBER\"]\n",
    "    )\n",
    "    return requests.get(url=url, params=params)\n",
    "    \n",
    "# Load OpenRadiation data\n",
    "resp = initApiOpenRadiation()\n",
    "binary = resp.content\n",
    "data = json.loads(binary)\n",
    "\n",
    "# Initiation of Tweepy with Twitter account with Tweet2Rad.yml values\n",
    "def initTwitter():\n",
    "    with open(\"Tweet2Rad-.yml\", \"r\") as conf:\n",
    "        t2r = yaml.safe_load(conf)\n",
    "    auth = tweepy.OAuthHandler(t2r[\"CONSUMER_KEY\"], t2r[\"CONSUMER_SECRET\"])\n",
    "    auth.set_access_token(t2r[\"ACCESS_KEY\"], t2r[\"ACCESS_SECRET\"])\n",
    "    return tweepy.API(auth)\n",
    "\n",
    "# Graph of last days\n",
    "for i in data[\"data\"]:\n",
    "    date = datetime.strptime(i[\"startTime\"], \"%Y-%m-%dT%H:%M:%S.%fZ\").strftime('%Y/%m/%d')\n",
    "    x = date\n",
    "    y = i[\"value\"]\n",
    "    plt.style.use('ggplot')\n",
    "    plt.rcParams[\"figure.figsize\"] = (9,8)\n",
    "    plt.title(\"Historique sur des derniers jours\", fontsize=8)\n",
    "    plt.ylabel(\"µSv/h\", fontsize=8)\n",
    "    plt.xlabel(\"Données compilées par S. Pouyllau avec les données d'OpenRadiation\", fontsize=8)\n",
    "    plt.xticks(rotation = 90, ha='center', fontsize=8)\n",
    "    plt.yticks(fontsize=8)\n",
    "    plt.bar(x,y, color=\"#006699\", width=0.3)\n",
    "    plt.savefig(\"t2r.png\")\n",
    "    plt.close\n",
    "\n",
    "# Let's go !\n",
    "for element in data['data']: \n",
    "    with open(\"Tweet2Rad-.yml\", \"r\") as conf:\n",
    "        t2r = yaml.safe_load(conf)\n",
    "    city = t2r[\"CITY\"]\n",
    "    msv = round(element['value'],3)\n",
    "    #ville = \"#Paris\"\n",
    "    date = datetime.strptime(element[\"startTime\"], \"%Y-%m-%dT%H:%M:%S.%fZ\").strftime('%Y-%m-%d')\n",
    "    \n",
    "    if todayYMD == date:\n",
    "        # Tweet text\n",
    "        tweet = \"Le \" + todayFR + \", la dose efficace de radioactivité mesurée à \"+city+\" est de \" + str(msv) + \" µSv/h. Ci-dessous, l’historique sur les derniers jours.\"\n",
    "        # Twitter authentification \n",
    "        api = initTwitter()\n",
    "        #\n",
    "        # Push the tweet + graph (and a local print)\n",
    "        # !!! Uncomment the line below before launch\n",
    "        #\n",
    "        #api.update_with_media(\"t2r.png\", status=tweet)\n",
    "        \n",
    "        # Local print (for logs)\n",
    "        print(tweet)"
   ]
  }
 ],
 "metadata": {
  "kernelspec": {
   "display_name": "Python 3",
   "language": "python",
   "name": "python3"
  },
  "language_info": {
   "codemirror_mode": {
    "name": "ipython",
    "version": 3
   },
   "file_extension": ".py",
   "mimetype": "text/x-python",
   "name": "python",
   "nbconvert_exporter": "python",
   "pygments_lexer": "ipython3",
   "version": "3.7.4"
  }
 },
 "nbformat": 4,
 "nbformat_minor": 4
}
